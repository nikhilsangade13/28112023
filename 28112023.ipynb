{
 "cells": [
  {
   "cell_type": "code",
   "execution_count": 7,
   "id": "446f652d",
   "metadata": {},
   "outputs": [
    {
     "name": "stdout",
     "output_type": "stream",
     "text": [
      "{1, 2, 3, 4}\n",
      "<class 'set'>\n"
     ]
    }
   ],
   "source": [
    "S={1, 2, 3, 4}\n",
    "print(S)\n"
   ]
  },
  {
   "cell_type": "code",
   "execution_count": 8,
   "id": "08b37030",
   "metadata": {},
   "outputs": [
    {
     "name": "stdout",
     "output_type": "stream",
     "text": [
      "<class 'set'>\n"
     ]
    }
   ],
   "source": [
    "print(type(S))"
   ]
  },
  {
   "cell_type": "code",
   "execution_count": 10,
   "id": "b9e344f5",
   "metadata": {},
   "outputs": [
    {
     "name": "stdout",
     "output_type": "stream",
     "text": [
      "{40, 10, 20, 30}\n"
     ]
    }
   ],
   "source": [
    "P = {10, 20, 30, 40}\n",
    "print(P)"
   ]
  },
  {
   "cell_type": "code",
   "execution_count": 11,
   "id": "b29a3d4f",
   "metadata": {},
   "outputs": [
    {
     "data": {
      "text/plain": [
       "['__and__',\n",
       " '__class__',\n",
       " '__class_getitem__',\n",
       " '__contains__',\n",
       " '__delattr__',\n",
       " '__dir__',\n",
       " '__doc__',\n",
       " '__eq__',\n",
       " '__format__',\n",
       " '__ge__',\n",
       " '__getattribute__',\n",
       " '__getstate__',\n",
       " '__gt__',\n",
       " '__hash__',\n",
       " '__iand__',\n",
       " '__init__',\n",
       " '__init_subclass__',\n",
       " '__ior__',\n",
       " '__isub__',\n",
       " '__iter__',\n",
       " '__ixor__',\n",
       " '__le__',\n",
       " '__len__',\n",
       " '__lt__',\n",
       " '__ne__',\n",
       " '__new__',\n",
       " '__or__',\n",
       " '__rand__',\n",
       " '__reduce__',\n",
       " '__reduce_ex__',\n",
       " '__repr__',\n",
       " '__ror__',\n",
       " '__rsub__',\n",
       " '__rxor__',\n",
       " '__setattr__',\n",
       " '__sizeof__',\n",
       " '__str__',\n",
       " '__sub__',\n",
       " '__subclasshook__',\n",
       " '__xor__',\n",
       " 'add',\n",
       " 'clear',\n",
       " 'copy',\n",
       " 'difference',\n",
       " 'difference_update',\n",
       " 'discard',\n",
       " 'intersection',\n",
       " 'intersection_update',\n",
       " 'isdisjoint',\n",
       " 'issubset',\n",
       " 'issuperset',\n",
       " 'pop',\n",
       " 'remove',\n",
       " 'symmetric_difference',\n",
       " 'symmetric_difference_update',\n",
       " 'union',\n",
       " 'update']"
      ]
     },
     "execution_count": 11,
     "metadata": {},
     "output_type": "execute_result"
    }
   ],
   "source": [
    "dir(P)"
   ]
  },
  {
   "cell_type": "code",
   "execution_count": 14,
   "id": "691591a7",
   "metadata": {},
   "outputs": [
    {
     "name": "stdout",
     "output_type": "stream",
     "text": [
      "{40, 10, 20, 60, 30}\n"
     ]
    }
   ],
   "source": [
    "P.add(60)\n",
    "print(P)"
   ]
  },
  {
   "cell_type": "code",
   "execution_count": 15,
   "id": "365c9acf",
   "metadata": {},
   "outputs": [
    {
     "name": "stdout",
     "output_type": "stream",
     "text": [
      "set()\n"
     ]
    }
   ],
   "source": [
    "P.clear()\n",
    "print(P)"
   ]
  },
  {
   "cell_type": "code",
   "execution_count": 17,
   "id": "e2960f84",
   "metadata": {},
   "outputs": [
    {
     "data": {
      "text/plain": [
       "2066753408352"
      ]
     },
     "execution_count": 17,
     "metadata": {},
     "output_type": "execute_result"
    }
   ],
   "source": [
    "w ={12, 24, 36, 48}\n",
    "id(w)"
   ]
  },
  {
   "cell_type": "code",
   "execution_count": 18,
   "id": "0a248e42",
   "metadata": {},
   "outputs": [
    {
     "data": {
      "text/plain": [
       "2066753404992"
      ]
     },
     "execution_count": 18,
     "metadata": {},
     "output_type": "execute_result"
    }
   ],
   "source": [
    "s=w.copy()\n",
    "id(s)"
   ]
  },
  {
   "cell_type": "code",
   "execution_count": 19,
   "id": "883400d8",
   "metadata": {},
   "outputs": [],
   "source": [
    "z = {11, 24, 36, 46}"
   ]
  },
  {
   "cell_type": "code",
   "execution_count": 26,
   "id": "8f271bdf",
   "metadata": {},
   "outputs": [
    {
     "name": "stdout",
     "output_type": "stream",
     "text": [
      "{11, 46}\n"
     ]
    }
   ],
   "source": [
    "z.difference(s)\n"
   ]
  },
  {
   "cell_type": "code",
   "execution_count": 21,
   "id": "eee6c7d9",
   "metadata": {},
   "outputs": [
    {
     "data": {
      "text/plain": [
       "{12, 48}"
      ]
     },
     "execution_count": 21,
     "metadata": {},
     "output_type": "execute_result"
    }
   ],
   "source": [
    "s.difference(z)"
   ]
  },
  {
   "cell_type": "code",
   "execution_count": 24,
   "id": "1e7e83a9",
   "metadata": {},
   "outputs": [
    {
     "name": "stdout",
     "output_type": "stream",
     "text": [
      "{11, 46}\n"
     ]
    }
   ],
   "source": [
    "z.difference_update(s)\n",
    "print(z)"
   ]
  },
  {
   "cell_type": "code",
   "execution_count": 27,
   "id": "033c65f4",
   "metadata": {},
   "outputs": [
    {
     "name": "stdout",
     "output_type": "stream",
     "text": [
      "{24, 48, 12, 36}\n"
     ]
    }
   ],
   "source": [
    "s.difference_update (z)\n",
    "print(s)"
   ]
  },
  {
   "cell_type": "code",
   "execution_count": 30,
   "id": "3c89fffb",
   "metadata": {},
   "outputs": [
    {
     "name": "stdout",
     "output_type": "stream",
     "text": [
      "{48, 12, 36}\n"
     ]
    }
   ],
   "source": [
    "s.discard(24)\n",
    "print(s)"
   ]
  },
  {
   "cell_type": "code",
   "execution_count": 31,
   "id": "103d3431",
   "metadata": {},
   "outputs": [
    {
     "name": "stdout",
     "output_type": "stream",
     "text": [
      "{48, 12, 36}\n"
     ]
    }
   ],
   "source": [
    "s.discard(45)\n",
    "print(s)"
   ]
  },
  {
   "cell_type": "code",
   "execution_count": 32,
   "id": "f7ea671f",
   "metadata": {},
   "outputs": [
    {
     "data": {
      "text/plain": [
       "set()"
      ]
     },
     "execution_count": 32,
     "metadata": {},
     "output_type": "execute_result"
    }
   ],
   "source": [
    "s.intersection(z)"
   ]
  },
  {
   "cell_type": "code",
   "execution_count": 35,
   "id": "445db308",
   "metadata": {},
   "outputs": [
    {
     "name": "stdout",
     "output_type": "stream",
     "text": [
      "set()\n"
     ]
    }
   ],
   "source": [
    "s.intersection_update(z)\n",
    "print(s)"
   ]
  },
  {
   "cell_type": "code",
   "execution_count": 36,
   "id": "acaab79c",
   "metadata": {},
   "outputs": [
    {
     "data": {
      "text/plain": [
       "True"
      ]
     },
     "execution_count": 36,
     "metadata": {},
     "output_type": "execute_result"
    }
   ],
   "source": [
    "s.isdisjoint(z)"
   ]
  },
  {
   "cell_type": "code",
   "execution_count": 37,
   "id": "950940c8",
   "metadata": {},
   "outputs": [
    {
     "data": {
      "text/plain": [
       "True"
      ]
     },
     "execution_count": 37,
     "metadata": {},
     "output_type": "execute_result"
    }
   ],
   "source": [
    "z.isdisjoint(s)"
   ]
  },
  {
   "cell_type": "code",
   "execution_count": 43,
   "id": "86bb9b7f",
   "metadata": {},
   "outputs": [
    {
     "name": "stdout",
     "output_type": "stream",
     "text": [
      "{11, 46}\n"
     ]
    }
   ],
   "source": [
    "m = {12, 46, 77, 88, 11}\n",
    "print(z)"
   ]
  },
  {
   "cell_type": "code",
   "execution_count": 44,
   "id": "906ad302",
   "metadata": {},
   "outputs": [
    {
     "data": {
      "text/plain": [
       "False"
      ]
     },
     "execution_count": 44,
     "metadata": {},
     "output_type": "execute_result"
    }
   ],
   "source": [
    "m.issubset(z)"
   ]
  },
  {
   "cell_type": "code",
   "execution_count": 45,
   "id": "d1b81101",
   "metadata": {},
   "outputs": [
    {
     "data": {
      "text/plain": [
       "True"
      ]
     },
     "execution_count": 45,
     "metadata": {},
     "output_type": "execute_result"
    }
   ],
   "source": [
    "z.issubset(m)"
   ]
  },
  {
   "cell_type": "code",
   "execution_count": 51,
   "id": "fa03ae05",
   "metadata": {},
   "outputs": [
    {
     "data": {
      "text/plain": [
       "False"
      ]
     },
     "execution_count": 51,
     "metadata": {},
     "output_type": "execute_result"
    }
   ],
   "source": [
    "z.issuperset(m)"
   ]
  },
  {
   "cell_type": "code",
   "execution_count": 52,
   "id": "790379ab",
   "metadata": {},
   "outputs": [
    {
     "data": {
      "text/plain": [
       "True"
      ]
     },
     "execution_count": 52,
     "metadata": {},
     "output_type": "execute_result"
    }
   ],
   "source": [
    "m.issuperset(z)"
   ]
  },
  {
   "cell_type": "code",
   "execution_count": 56,
   "id": "be1f3a48",
   "metadata": {},
   "outputs": [
    {
     "name": "stdout",
     "output_type": "stream",
     "text": [
      "{88, 11, 12, 77, 46}\n"
     ]
    }
   ],
   "source": [
    "print(m)"
   ]
  },
  {
   "cell_type": "code",
   "execution_count": 57,
   "id": "552d1e1c",
   "metadata": {},
   "outputs": [
    {
     "data": {
      "text/plain": [
       "88"
      ]
     },
     "execution_count": 57,
     "metadata": {},
     "output_type": "execute_result"
    }
   ],
   "source": [
    "m.pop()"
   ]
  },
  {
   "cell_type": "code",
   "execution_count": 59,
   "id": "54aa9cb4",
   "metadata": {},
   "outputs": [
    {
     "name": "stdout",
     "output_type": "stream",
     "text": [
      "{11, 12, 77, 46}\n"
     ]
    }
   ],
   "source": [
    "print(m)"
   ]
  },
  {
   "cell_type": "code",
   "execution_count": 71,
   "id": "0361b3d0",
   "metadata": {},
   "outputs": [
    {
     "name": "stdout",
     "output_type": "stream",
     "text": [
      "{11, 77, 46}\n"
     ]
    }
   ],
   "source": [
    "print(m)"
   ]
  },
  {
   "cell_type": "code",
   "execution_count": 72,
   "id": "11c852b4",
   "metadata": {},
   "outputs": [
    {
     "ename": "KeyError",
     "evalue": "88",
     "output_type": "error",
     "traceback": [
      "\u001b[1;31m---------------------------------------------------------------------------\u001b[0m",
      "\u001b[1;31mKeyError\u001b[0m                                  Traceback (most recent call last)",
      "Cell \u001b[1;32mIn[72], line 1\u001b[0m\n\u001b[1;32m----> 1\u001b[0m m\u001b[38;5;241m.\u001b[39mremove(\u001b[38;5;241m88\u001b[39m)\n",
      "\u001b[1;31mKeyError\u001b[0m: 88"
     ]
    }
   ],
   "source": [
    "m.remove(88)"
   ]
  },
  {
   "cell_type": "code",
   "execution_count": 73,
   "id": "3107d748",
   "metadata": {},
   "outputs": [],
   "source": [
    "m.discard(88)"
   ]
  },
  {
   "cell_type": "code",
   "execution_count": 76,
   "id": "e642cc50",
   "metadata": {},
   "outputs": [
    {
     "name": "stdout",
     "output_type": "stream",
     "text": [
      "{11, 77, 46}\n",
      "{11, 46}\n"
     ]
    }
   ],
   "source": [
    "print(m)\n",
    "print(z)"
   ]
  },
  {
   "cell_type": "code",
   "execution_count": 75,
   "id": "dc1e0ff7",
   "metadata": {},
   "outputs": [
    {
     "data": {
      "text/plain": [
       "{77}"
      ]
     },
     "execution_count": 75,
     "metadata": {},
     "output_type": "execute_result"
    }
   ],
   "source": [
    "m.symmetric_difference(z)"
   ]
  },
  {
   "cell_type": "code",
   "execution_count": 77,
   "id": "3a1d197a",
   "metadata": {},
   "outputs": [
    {
     "data": {
      "text/plain": [
       "{77}"
      ]
     },
     "execution_count": 77,
     "metadata": {},
     "output_type": "execute_result"
    }
   ],
   "source": [
    "z.symmetric_difference(m)"
   ]
  },
  {
   "cell_type": "code",
   "execution_count": 78,
   "id": "2804bfd9",
   "metadata": {},
   "outputs": [
    {
     "data": {
      "text/plain": [
       "{11, 46, 77}"
      ]
     },
     "execution_count": 78,
     "metadata": {},
     "output_type": "execute_result"
    }
   ],
   "source": [
    "m.union(z)"
   ]
  },
  {
   "cell_type": "code",
   "execution_count": 80,
   "id": "35dcefc9",
   "metadata": {},
   "outputs": [],
   "source": [
    "m.update({22, 44, 66})"
   ]
  },
  {
   "cell_type": "code",
   "execution_count": 81,
   "id": "8a9b50cb",
   "metadata": {},
   "outputs": [
    {
     "name": "stdout",
     "output_type": "stream",
     "text": [
      "{66, 22, 11, 44, 77, 46}\n"
     ]
    }
   ],
   "source": [
    "print(m)"
   ]
  },
  {
   "cell_type": "code",
   "execution_count": null,
   "id": "dde34f26",
   "metadata": {},
   "outputs": [],
   "source": []
  }
 ],
 "metadata": {
  "kernelspec": {
   "display_name": "Python 3 (ipykernel)",
   "language": "python",
   "name": "python3"
  },
  "language_info": {
   "codemirror_mode": {
    "name": "ipython",
    "version": 3
   },
   "file_extension": ".py",
   "mimetype": "text/x-python",
   "name": "python",
   "nbconvert_exporter": "python",
   "pygments_lexer": "ipython3",
   "version": "3.11.5"
  }
 },
 "nbformat": 4,
 "nbformat_minor": 5
}
